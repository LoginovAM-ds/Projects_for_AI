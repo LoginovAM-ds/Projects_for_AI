{
 "cells": [
  {
   "cell_type": "code",
   "execution_count": 1,
   "metadata": {},
   "outputs": [
    {
     "name": "stdout",
     "output_type": "stream",
     "text": [
      "Downloading data from https://storage.googleapis.com/tensorflow/tf-keras-datasets/reuters.npz\n",
      "2110848/2110848 [==============================] - 0s 0us/step\n"
     ]
    }
   ],
   "source": [
    "from keras.datasets import reuters\n",
    "(train_data, train_labels), (test_data, test_labels) = reuters.load_data(\n",
    " num_words=10000)"
   ]
  },
  {
   "cell_type": "code",
   "execution_count": 2,
   "metadata": {},
   "outputs": [
    {
     "name": "stdout",
     "output_type": "stream",
     "text": [
      "Downloading data from https://storage.googleapis.com/tensorflow/tf-keras-datasets/reuters_word_index.json\n",
      "550378/550378 [==============================] - 0s 0us/step\n"
     ]
    }
   ],
   "source": [
    "word_index = reuters.get_word_index()\n",
    "reverse_word_index = dict([(value, key) for (key, value) in word_index.items()])\n",
    "decoded_newswire = ' '.join([reverse_word_index.get(i - 3, '?') for i in\n",
    "                             train_data[0]])\n"
   ]
  },
  {
   "cell_type": "code",
   "execution_count": 8,
   "metadata": {},
   "outputs": [],
   "source": [
    "import numpy as np\n",
    "from tensorflow.keras.utils import to_categorical\n",
    "\n",
    "def vect_sec(sec,demencion=10000):\n",
    "    result = np.zeros((len(sec), demencion))\n",
    "\n",
    "    for i,sec in enumerate(sec):\n",
    "        result[i,sec]=1\n",
    "    return result\n",
    "x_train = vect_sec(train_data)\n",
    "x_test = vect_sec(test_data)\n",
    "hot_y_train = to_categorical(train_labels)\n",
    "hot_y_test = to_categorical(test_labels)\n"
   ]
  },
  {
   "cell_type": "code",
   "execution_count": 9,
   "metadata": {},
   "outputs": [],
   "source": [
    "from keras import models\n",
    "from keras import layers\n",
    "model=models.Sequential()\n",
    "model.add(layers.Dense(64,activation='relu',input_shape=(10000,)))\n",
    "model.add(layers.Dense(64,activation='relu'))\n",
    "model.add(layers.Dense(46,activation='softmax'))\n"
   ]
  },
  {
   "cell_type": "code",
   "execution_count": 10,
   "metadata": {},
   "outputs": [
    {
     "name": "stdout",
     "output_type": "stream",
     "text": [
      "Epoch 1/20\n",
      "16/16 [==============================] - 1s 30ms/step - loss: 2.7388 - accuracy: 0.4977 - val_loss: 1.8158 - val_accuracy: 0.6250\n",
      "Epoch 2/20\n",
      "16/16 [==============================] - 0s 14ms/step - loss: 1.5347 - accuracy: 0.6854 - val_loss: 1.3477 - val_accuracy: 0.7130\n",
      "Epoch 3/20\n",
      "16/16 [==============================] - 0s 16ms/step - loss: 1.1674 - accuracy: 0.7473 - val_loss: 1.1526 - val_accuracy: 0.7550\n",
      "Epoch 4/20\n",
      "16/16 [==============================] - 0s 15ms/step - loss: 0.9469 - accuracy: 0.7964 - val_loss: 1.0453 - val_accuracy: 0.7720\n",
      "Epoch 5/20\n",
      "16/16 [==============================] - 0s 14ms/step - loss: 0.7852 - accuracy: 0.8274 - val_loss: 0.9906 - val_accuracy: 0.7970\n",
      "Epoch 6/20\n",
      "16/16 [==============================] - 0s 14ms/step - loss: 0.6566 - accuracy: 0.8561 - val_loss: 0.9182 - val_accuracy: 0.8040\n",
      "Epoch 7/20\n",
      "16/16 [==============================] - 0s 14ms/step - loss: 0.5484 - accuracy: 0.8816 - val_loss: 0.8966 - val_accuracy: 0.8120\n",
      "Epoch 8/20\n",
      "16/16 [==============================] - 0s 14ms/step - loss: 0.4597 - accuracy: 0.9047 - val_loss: 0.8626 - val_accuracy: 0.8110\n",
      "Epoch 9/20\n",
      "16/16 [==============================] - 0s 16ms/step - loss: 0.3866 - accuracy: 0.9187 - val_loss: 0.8346 - val_accuracy: 0.8220\n",
      "Epoch 10/20\n",
      "16/16 [==============================] - 0s 15ms/step - loss: 0.3331 - accuracy: 0.9287 - val_loss: 0.8436 - val_accuracy: 0.8150\n",
      "Epoch 11/20\n",
      "16/16 [==============================] - 0s 16ms/step - loss: 0.2878 - accuracy: 0.9386 - val_loss: 0.8418 - val_accuracy: 0.8170\n",
      "Epoch 12/20\n",
      "16/16 [==============================] - 0s 15ms/step - loss: 0.2518 - accuracy: 0.9439 - val_loss: 0.8529 - val_accuracy: 0.8170\n",
      "Epoch 13/20\n",
      "16/16 [==============================] - 0s 14ms/step - loss: 0.2260 - accuracy: 0.9459 - val_loss: 0.8487 - val_accuracy: 0.8190\n",
      "Epoch 14/20\n",
      "16/16 [==============================] - 0s 14ms/step - loss: 0.2011 - accuracy: 0.9509 - val_loss: 0.8571 - val_accuracy: 0.8160\n",
      "Epoch 15/20\n",
      "16/16 [==============================] - 0s 15ms/step - loss: 0.1824 - accuracy: 0.9534 - val_loss: 0.8962 - val_accuracy: 0.8080\n",
      "Epoch 16/20\n",
      "16/16 [==============================] - 0s 15ms/step - loss: 0.1656 - accuracy: 0.9541 - val_loss: 0.8745 - val_accuracy: 0.8180\n",
      "Epoch 17/20\n",
      "16/16 [==============================] - 0s 14ms/step - loss: 0.1572 - accuracy: 0.9543 - val_loss: 0.8669 - val_accuracy: 0.8230\n",
      "Epoch 18/20\n",
      "16/16 [==============================] - 0s 14ms/step - loss: 0.1503 - accuracy: 0.9551 - val_loss: 0.8997 - val_accuracy: 0.8110\n",
      "Epoch 19/20\n",
      "16/16 [==============================] - 0s 15ms/step - loss: 0.1379 - accuracy: 0.9559 - val_loss: 0.9208 - val_accuracy: 0.8070\n",
      "Epoch 20/20\n",
      "16/16 [==============================] - 0s 14ms/step - loss: 0.1326 - accuracy: 0.9569 - val_loss: 0.9060 - val_accuracy: 0.8130\n"
     ]
    }
   ],
   "source": [
    "model.compile(optimizer='rmsprop',\n",
    "                loss='categorical_crossentropy',\n",
    "                metrics=['accuracy'])\n",
    "x_val = x_train[:1000]\n",
    "partial_x_train = x_train[1000:]\n",
    "y_val = hot_y_train[:1000]\n",
    "partial_y_train = hot_y_train[1000:]\n",
    "histry=model.fit(partial_x_train,partial_y_train,epochs=20,batch_size=512,validation_data=(x_val,y_val))"
   ]
  },
  {
   "cell_type": "code",
   "execution_count": 11,
   "metadata": {},
   "outputs": [
    {
     "data": {
      "image/png": "[encoded data removed]",
      "text/plain": [
       "<Figure size 640x480 with 1 Axes>"
      ]
     },
     "metadata": {},
     "output_type": "display_data"
    }
   ],
   "source": [
    "import matplotlib.pyplot as plt\n",
    "loss = histry.history['loss']\n",
    "val_loss = histry.history['val_loss']\n",
    "epochs = range(1, len(loss) + 1)\n",
    "plt.plot(epochs, loss, 'bo', label='Training loss') \n",
    "plt.plot(epochs, val_loss, 'b', label='Validation loss')\n",
    "plt.legend()\n",
    "plt.show()"
   ]
  },
  {
   "cell_type": "code",
   "execution_count": 12,
   "metadata": {},
   "outputs": [
    {
     "data": {
      "image/png": "[encoded data removed]",
      "text/plain": [
       "<Figure size 640x480 with 1 Axes>"
      ]
     },
     "metadata": {},
     "output_type": "display_data"
    }
   ],
   "source": [
    "acc = histry.history['accuracy']\n",
    "val_acc = histry.history['val_accuracy']\n",
    "plt.plot(epochs, acc, 'bo', label='Training acc')\n",
    "plt.plot(epochs, val_acc, 'b', label='Validation acc')\n",
    "plt.legend()\n",
    "plt.show()\n"
   ]
  },
  {
   "cell_type": "code",
   "execution_count": 13,
   "metadata": {},
   "outputs": [
    {
     "name": "stdout",
     "output_type": "stream",
     "text": [
      "Epoch 1/9\n",
      "16/16 [==============================] - 1s 23ms/step - loss: 2.7895 - accuracy: 0.5193 - val_loss: 1.8592 - val_accuracy: 0.6230\n",
      "Epoch 2/9\n",
      "16/16 [==============================] - 0s 14ms/step - loss: 1.5331 - accuracy: 0.6845 - val_loss: 1.3782 - val_accuracy: 0.6980\n",
      "Epoch 3/9\n",
      "16/16 [==============================] - 0s 13ms/step - loss: 1.1667 - accuracy: 0.7481 - val_loss: 1.1921 - val_accuracy: 0.7300\n",
      "Epoch 4/9\n",
      "16/16 [==============================] - 0s 13ms/step - loss: 0.9569 - accuracy: 0.7905 - val_loss: 1.0849 - val_accuracy: 0.7500\n",
      "Epoch 5/9\n",
      "16/16 [==============================] - 0s 13ms/step - loss: 0.7915 - accuracy: 0.8264 - val_loss: 1.0013 - val_accuracy: 0.7860\n",
      "Epoch 6/9\n",
      "16/16 [==============================] - 0s 14ms/step - loss: 0.6570 - accuracy: 0.8584 - val_loss: 0.9538 - val_accuracy: 0.7940\n",
      "Epoch 7/9\n",
      "16/16 [==============================] - 0s 14ms/step - loss: 0.5449 - accuracy: 0.8866 - val_loss: 0.9168 - val_accuracy: 0.7990\n",
      "Epoch 8/9\n",
      "16/16 [==============================] - 0s 14ms/step - loss: 0.4555 - accuracy: 0.9050 - val_loss: 0.8985 - val_accuracy: 0.8130\n",
      "Epoch 9/9\n",
      "16/16 [==============================] - 0s 13ms/step - loss: 0.3844 - accuracy: 0.9192 - val_loss: 0.9031 - val_accuracy: 0.7980\n",
      "71/71 [==============================] - 0s 1ms/step - loss: 0.9735 - accuracy: 0.7801\n"
     ]
    }
   ],
   "source": [
    "model=models.Sequential()\n",
    "model.add(layers.Dense(64,activation='relu',input_shape=(10000,)))\n",
    "model.add(layers.Dense(64,activation='relu'))\n",
    "model.add(layers.Dense(46,activation='softmax'))\n",
    "model.compile(optimizer='rmsprop',\n",
    "                loss='categorical_crossentropy',\n",
    "                metrics=['accuracy'])\n",
    "model.fit(partial_x_train,partial_y_train,epochs=9,batch_size=512,validation_data=(x_val,y_val))\n",
    "results=model.evaluate(x_test,hot_y_test)"
   ]
  },
  {
   "cell_type": "code",
   "execution_count": 17,
   "metadata": {},
   "outputs": [
    {
     "name": "stdout",
     "output_type": "stream",
     "text": [
      "71/71 [==============================] - 0s 1ms/step\n"
     ]
    },
    {
     "data": {
      "text/plain": [
       "3"
      ]
     },
     "execution_count": 17,
     "metadata": {},
     "output_type": "execute_result"
    }
   ],
   "source": [
    "pred=model.predict(x_test)\n",
    "np.argmax(pred[0])\n"
   ]
  }
 ],
 "metadata": {
  "kernelspec": {
   "display_name": "base",
   "language": "python",
   "name": "python3"
  },
  "language_info": {
   "codemirror_mode": {
    "name": "ipython",
    "version": 3
   },
   "file_extension": ".py",
   "mimetype": "text/x-python",
   "name": "python",
   "nbconvert_exporter": "python",
   "pygments_lexer": "ipython3",
   "version": "3.11.5"
  }
 },
 "nbformat": 4,
 "nbformat_minor": 2
}
